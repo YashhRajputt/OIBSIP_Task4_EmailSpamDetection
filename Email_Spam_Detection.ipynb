{
 "cells": [
  {
   "cell_type": "markdown",
   "id": "f75e8d01",
   "metadata": {},
   "source": [
    "# Email Spam Detection (Spam vs Ham)\n",
    "\n",
    "This notebook builds a spam classifier using TF‑IDF + Multinomial Naive Bayes."
   ]
  },
  {
   "cell_type": "code",
   "execution_count": null,
   "id": "eb35477c",
   "metadata": {},
   "outputs": [],
   "source": [
    "import pandas as pd\n",
    "import numpy as np\n",
    "import matplotlib.pyplot as plt\n",
    "import seaborn as sns\n",
    "from sklearn.model_selection import train_test_split\n",
    "from sklearn.feature_extraction.text import TfidfVectorizer\n",
    "from sklearn.naive_bayes import MultinomialNB\n",
    "from sklearn.pipeline import Pipeline\n",
    "from sklearn.metrics import accuracy_score, precision_score, recall_score, f1_score, confusion_matrix, classification_report\n",
    "import joblib\n",
    "\n",
    "# Load dataset (note latin-1 to avoid Unicode errors)\n",
    "df_raw = pd.read_csv('data/spam.csv', encoding='latin-1')\n",
    "df_raw.head()"
   ]
  },
  {
   "cell_type": "code",
   "execution_count": null,
   "id": "407083ea",
   "metadata": {},
   "outputs": [],
   "source": [
    "# Keep only needed columns\n",
    "df = df_raw[['v1','v2']].copy()\n",
    "df.columns = ['label','message']\n",
    "\n",
    "# Drop missing\n",
    "df.dropna(inplace=True)\n",
    "\n",
    "# Map labels\n",
    "df['label_num'] = df['label'].map({'ham':0, 'spam':1})\n",
    "df.sample(5)"
   ]
  },
  {
   "cell_type": "code",
   "execution_count": null,
   "id": "efbf67d6",
   "metadata": {},
   "outputs": [],
   "source": [
    "# Label distribution\n",
    "ax = sns.countplot(x='label', data=df)\n",
    "plt.title('Label Distribution')\n",
    "plt.show()\n",
    "\n",
    "# Message length feature for quick EDA\n",
    "df['msg_len'] = df['message'].str.len()\n",
    "sns.histplot(data=df, x='msg_len', hue='label', bins=50, kde=True)\n",
    "plt.title('Message Length Distribution by Label')\n",
    "plt.show()\n",
    "\n",
    "df[['msg_len','label']].groupby('label').describe()"
   ]
  },
  {
   "cell_type": "code",
   "execution_count": null,
   "id": "b103a0c1",
   "metadata": {},
   "outputs": [],
   "source": [
    "# Train / Test split\n",
    "X_train, X_test, y_train, y_test = train_test_split(\n",
    "    df['message'], df['label_num'], test_size=0.2, random_state=42, stratify=df['label_num']\n",
    ")\n",
    "\n",
    "# Pipeline: TF-IDF + MultinomialNB\n",
    "pipe = Pipeline([\n",
    "    ('tfidf', TfidfVectorizer(stop_words='english', lowercase=True, max_df=0.95, min_df=2)),\n",
    "    ('nb', MultinomialNB(alpha=0.1))\n",
    "])\n",
    "\n",
    "pipe.fit(X_train, y_train)\n",
    "\n",
    "# Predictions\n",
    "y_pred = pipe.predict(X_test)\n",
    "\n",
    "# Metrics\n",
    "acc = accuracy_score(y_test, y_pred)\n",
    "prec = precision_score(y_test, y_pred)\n",
    "rec = recall_score(y_test, y_pred)\n",
    "f1 = f1_score(y_test, y_pred)\n",
    "\n",
    "print(f'Accuracy:  {acc:.4f}')\n",
    "print(f'Precision: {prec:.4f}')\n",
    "print(f'Recall:    {rec:.4f}')\n",
    "print(f'F1-score:  {f1:.4f}')\n",
    "print('\\nClassification Report:\\n', classification_report(y_test, y_pred, target_names=['ham','spam']))"
   ]
  },
  {
   "cell_type": "code",
   "execution_count": null,
   "id": "28e03445",
   "metadata": {},
   "outputs": [],
   "source": [
    "# Confusion Matrix\n",
    "cm = confusion_matrix(y_test, y_pred)\n",
    "sns.heatmap(cm, annot=True, fmt='d', cmap='Blues',\n",
    "            xticklabels=['ham','spam'], yticklabels=['ham','spam'])\n",
    "plt.xlabel('Predicted')\n",
    "plt.ylabel('Actual')\n",
    "plt.title('Confusion Matrix')\n",
    "plt.show()"
   ]
  },
  {
   "cell_type": "code",
   "execution_count": null,
   "id": "468d65c6",
   "metadata": {},
   "outputs": [],
   "source": [
    "# Save the pipeline\n",
    "joblib.dump(pipe, 'spam_nb_pipeline.joblib')\n",
    "print('Saved trained pipeline to spam_nb_pipeline.joblib')"
   ]
  },
  {
   "cell_type": "code",
   "execution_count": null,
   "id": "47a45ece",
   "metadata": {},
   "outputs": [],
   "source": [
    "# Helper to test custom messages\n",
    "def predict_message(msg: str) -> str:\n",
    "    pred = pipe.predict([msg])[0]\n",
    "    proba = pipe.predict_proba([msg])[0][pred]\n",
    "    return f\"{'Spam' if pred==1 else 'Not Spam'} (confidence: {proba:.2f})\"\n",
    "\n",
    "print(predict_message('You have WON $5000!! Click here to claim now.'))\n",
    "print(predict_message('Hi, can we meet tomorrow at 5?'))"
   ]
  },
  {
   "cell_type": "markdown",
   "id": "b989cfb1",
   "metadata": {},
   "source": [
    "## Conclusion\n",
    "Using TF‑IDF features and Multinomial Naive Bayes yields strong performance for SMS/email spam detection. The trained pipeline is saved as `spam_nb_pipeline.joblib` and can be loaded to classify new messages immediately."
   ]
  }
 ],
 "metadata": {},
 "nbformat": 4,
 "nbformat_minor": 5
}
